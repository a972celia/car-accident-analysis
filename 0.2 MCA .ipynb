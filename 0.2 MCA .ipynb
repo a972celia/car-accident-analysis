{
 "cells": [
  {
   "cell_type": "code",
   "execution_count": 1,
   "metadata": {},
   "outputs": [],
   "source": [
    "import matplotlib.pyplot as plt\n",
    "%matplotlib inline \n",
    "import pandas as pd\n",
    "import prince"
   ]
  },
  {
   "cell_type": "code",
   "execution_count": 2,
   "metadata": {},
   "outputs": [],
   "source": [
    "New_acc_data=pd.read_csv('/Users/Celia/Desktop/Data_Assurance_Data_Test_S/Dataset_v2.csv')"
   ]
  },
  {
   "cell_type": "code",
   "execution_count": 3,
   "metadata": {},
   "outputs": [],
   "source": [
    "categorical_cols=['Longitude','Latitude','Accident_Severity','Local_Authority_(District)',\n",
    "                 '1st_Road_Class','Road_Type','Speed_limit','Junction_Detail', \n",
    "                'Junction_Control','Ped_Cross_Human','Day_of_Week',\n",
    "                'Ped_Cross_Physical','Light_Conditions','Urban_or_Rural_Area',\n",
    "                  'Police_Officer_Attend','Month_of_year','Hour_of_Day']\n",
    "\n",
    "X=New_acc_data[categorical_cols]"
   ]
  },
  {
   "cell_type": "code",
   "execution_count": 4,
   "metadata": {},
   "outputs": [],
   "source": [
    "mca = prince.MCA(\n",
    "      n_components=2,\n",
    "      n_iter=3,\n",
    "      copy=True,\n",
    "      check_input=True,\n",
    "      engine='auto',\n",
    "      random_state=42)"
   ]
  },
  {
   "cell_type": "code",
   "execution_count": null,
   "metadata": {},
   "outputs": [],
   "source": [
    "mca = mca.fit(X)"
   ]
  },
  {
   "cell_type": "code",
   "execution_count": null,
   "metadata": {},
   "outputs": [],
   "source": [
    "ax = mca.plot_coordinates(\n",
    "         X=X,\n",
    "         ax=None,\n",
    "         figsize=(6, 6),\n",
    "         show_row_points=True,\n",
    "         row_points_size=10,\n",
    "         show_row_labels=False,\n",
    "         show_column_points=True,\n",
    "         column_points_size=30,\n",
    "         show_column_labels=False,\n",
    "         legend_n_cols=1)\n",
    "ax.get_figure().savefig('images/mca_coordinates.png')"
   ]
  }
 ],
 "metadata": {
  "kernelspec": {
   "display_name": "Python 3",
   "language": "python",
   "name": "python3"
  },
  "language_info": {
   "codemirror_mode": {
    "name": "ipython",
    "version": 3
   },
   "file_extension": ".py",
   "mimetype": "text/x-python",
   "name": "python",
   "nbconvert_exporter": "python",
   "pygments_lexer": "ipython3",
   "version": "3.6.4"
  }
 },
 "nbformat": 4,
 "nbformat_minor": 2
}
